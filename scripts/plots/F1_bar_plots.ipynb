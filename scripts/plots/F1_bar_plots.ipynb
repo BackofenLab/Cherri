{
 "cells": [
  {
   "cell_type": "code",
   "execution_count": 1,
   "metadata": {},
   "outputs": [],
   "source": [
    "#!/usr/bin/env python3\n",
    "import pandas as pd\n",
    "import numpy as np\n",
    "import seaborn as sns\n",
    "import matplotlib as mpl\n",
    "import matplotlib.pyplot as plt"
   ]
  },
  {
   "cell_type": "code",
   "execution_count": 2,
   "metadata": {},
   "outputs": [],
   "source": [
    "### Data\n",
    "### Data\n",
    "d_hand_crafted = {'Dataset': ['Human data','Human RBP data','Mouse data','Human data','Human RBP data','Mouse data','Human data','Human RBP data','Mouse data'], \n",
    "                  'Model': ['Human','Human','Human','Human RBP','Human RBP','Human RBP','Mouse','Mouse','Mouse'],\n",
    "                  'F1 score':  [0.85, 0.93, 0.64,0.86, 0.86, 0.62,0.59, 0.59, 0.86]} \n",
    "df_hand_crafted = pd.DataFrame(data=d_hand_crafted)"
   ]
  },
  {
   "cell_type": "code",
   "execution_count": 3,
   "metadata": {},
   "outputs": [],
   "source": [
    "### Data\n",
    "d_structure = {'Dataset': ['Human data','Human RBP data','Mouse data','Human data','Human RBP data','Mouse data','Human data','Human RBP data','Mouse data'], \n",
    "               'Model': ['Human','Human','Human','Human RBP','Human RBP','Human RBP','Mouse','Mouse','Mouse'],\n",
    "               'F1 score':  [0.91, 0.95, 0.68 ,0.89, 0.91, 0.66 ,0.58, 0.58, 0.92]}\n",
    "df_structure = pd.DataFrame(data=d_structure)"
   ]
  },
  {
   "cell_type": "code",
   "execution_count": 4,
   "metadata": {},
   "outputs": [
    {
     "data": {
      "text/plain": [
       "<matplotlib.axes._subplots.AxesSubplot at 0x7f5753db8d30>"
      ]
     },
     "execution_count": 4,
     "metadata": {},
     "output_type": "execute_result"
    },
    {
     "data": {
      "image/png": "[encoded data removed]",
      "text/plain": [
       "<Figure size 432x288 with 1 Axes>"
      ]
     },
     "metadata": {},
     "output_type": "display_data"
    }
   ],
   "source": [
    "sns.set(style=\"whitegrid\", font_scale=1)\n",
    "\n",
    "fig, ax = plt.subplots()\n",
    "\n",
    "sns.barplot(x=\"Model\", y=\"F1 score\", data=d_hand_crafted, hue=\"Dataset\" , palette= ['#F0E442','#E69F00','#009E73'])\n",
    "\n",
    "#ax.set_xlabel('')\n",
    "#ax.set_ylabel('recovery')\n",
    "\n",
    "#ax.set_ylim([0,1])\n",
    "\n",
    "\n",
    "#fig.savefig('F1_structure_plot.pdf', format='pdf', dpi=300, bbox_inches='tight')"
   ]
  },
  {
   "cell_type": "code",
   "execution_count": 5,
   "metadata": {
    "scrolled": true
   },
   "outputs": [
    {
     "data": {
      "text/plain": [
       "<matplotlib.axes._subplots.AxesSubplot at 0x7f57535660d0>"
      ]
     },
     "execution_count": 5,
     "metadata": {},
     "output_type": "execute_result"
    },
    {
     "data": {
      "image/png": "[encoded data removed]",
      "text/plain": [
       "<Figure size 432x288 with 1 Axes>"
      ]
     },
     "metadata": {},
     "output_type": "display_data"
    }
   ],
   "source": [
    "sns.set(style=\"whitegrid\", font_scale=1)\n",
    "\n",
    "fig, ax = plt.subplots()\n",
    "\n",
    "sns.barplot(x=\"Model\", y=\"F1 score\", data=df_structure, hue=\"Dataset\", palette= ['#F0E442','#E69F00','#009E73'])\n",
    "\n",
    "#ax.set_xlabel('')\n",
    "#ax.set_ylabel('recovery')\n",
    "\n",
    "#ax.set_ylim([0,1])\n",
    "\n",
    "\n",
    "#fig.savefig('F1_structure_plot.pdf', format='pdf', dpi=300, bbox_inches='tight')"
   ]
  },
  {
   "cell_type": "code",
   "execution_count": 6,
   "metadata": {},
   "outputs": [],
   "source": [
    "# concatinat datasets\n",
    "df_hand_crafted['feature set'] = 'hand crafted'\n",
    "df_structure['feature set'] = 'structure'\n",
    "\n",
    "df_full = pd.concat([df_hand_crafted, df_structure], ignore_index=True)"
   ]
  },
  {
   "cell_type": "code",
   "execution_count": 7,
   "metadata": {},
   "outputs": [
    {
     "data": {
      "text/html": [
       "<div>\n",
       "<style scoped>\n",
       "    .dataframe tbody tr th:only-of-type {\n",
       "        vertical-align: middle;\n",
       "    }\n",
       "\n",
       "    .dataframe tbody tr th {\n",
       "        vertical-align: top;\n",
       "    }\n",
       "\n",
       "    .dataframe thead th {\n",
       "        text-align: right;\n",
       "    }\n",
       "</style>\n",
       "<table border=\"1\" class=\"dataframe\">\n",
       "  <thead>\n",
       "    <tr style=\"text-align: right;\">\n",
       "      <th></th>\n",
       "      <th>Dataset</th>\n",
       "      <th>Model</th>\n",
       "      <th>F1 score</th>\n",
       "      <th>feature set</th>\n",
       "    </tr>\n",
       "  </thead>\n",
       "  <tbody>\n",
       "    <tr>\n",
       "      <th>0</th>\n",
       "      <td>Human data</td>\n",
       "      <td>Human</td>\n",
       "      <td>0.85</td>\n",
       "      <td>hand crafted</td>\n",
       "    </tr>\n",
       "    <tr>\n",
       "      <th>1</th>\n",
       "      <td>Human RBP data</td>\n",
       "      <td>Human</td>\n",
       "      <td>0.93</td>\n",
       "      <td>hand crafted</td>\n",
       "    </tr>\n",
       "    <tr>\n",
       "      <th>2</th>\n",
       "      <td>Mouse data</td>\n",
       "      <td>Human</td>\n",
       "      <td>0.64</td>\n",
       "      <td>hand crafted</td>\n",
       "    </tr>\n",
       "    <tr>\n",
       "      <th>3</th>\n",
       "      <td>Human data</td>\n",
       "      <td>Human RBP</td>\n",
       "      <td>0.86</td>\n",
       "      <td>hand crafted</td>\n",
       "    </tr>\n",
       "    <tr>\n",
       "      <th>4</th>\n",
       "      <td>Human RBP data</td>\n",
       "      <td>Human RBP</td>\n",
       "      <td>0.86</td>\n",
       "      <td>hand crafted</td>\n",
       "    </tr>\n",
       "    <tr>\n",
       "      <th>5</th>\n",
       "      <td>Mouse data</td>\n",
       "      <td>Human RBP</td>\n",
       "      <td>0.62</td>\n",
       "      <td>hand crafted</td>\n",
       "    </tr>\n",
       "    <tr>\n",
       "      <th>6</th>\n",
       "      <td>Human data</td>\n",
       "      <td>Mouse</td>\n",
       "      <td>0.59</td>\n",
       "      <td>hand crafted</td>\n",
       "    </tr>\n",
       "    <tr>\n",
       "      <th>7</th>\n",
       "      <td>Human RBP data</td>\n",
       "      <td>Mouse</td>\n",
       "      <td>0.59</td>\n",
       "      <td>hand crafted</td>\n",
       "    </tr>\n",
       "    <tr>\n",
       "      <th>8</th>\n",
       "      <td>Mouse data</td>\n",
       "      <td>Mouse</td>\n",
       "      <td>0.86</td>\n",
       "      <td>hand crafted</td>\n",
       "    </tr>\n",
       "    <tr>\n",
       "      <th>9</th>\n",
       "      <td>Human data</td>\n",
       "      <td>Human</td>\n",
       "      <td>0.91</td>\n",
       "      <td>structure</td>\n",
       "    </tr>\n",
       "    <tr>\n",
       "      <th>10</th>\n",
       "      <td>Human RBP data</td>\n",
       "      <td>Human</td>\n",
       "      <td>0.95</td>\n",
       "      <td>structure</td>\n",
       "    </tr>\n",
       "    <tr>\n",
       "      <th>11</th>\n",
       "      <td>Mouse data</td>\n",
       "      <td>Human</td>\n",
       "      <td>0.68</td>\n",
       "      <td>structure</td>\n",
       "    </tr>\n",
       "    <tr>\n",
       "      <th>12</th>\n",
       "      <td>Human data</td>\n",
       "      <td>Human RBP</td>\n",
       "      <td>0.89</td>\n",
       "      <td>structure</td>\n",
       "    </tr>\n",
       "    <tr>\n",
       "      <th>13</th>\n",
       "      <td>Human RBP data</td>\n",
       "      <td>Human RBP</td>\n",
       "      <td>0.91</td>\n",
       "      <td>structure</td>\n",
       "    </tr>\n",
       "    <tr>\n",
       "      <th>14</th>\n",
       "      <td>Mouse data</td>\n",
       "      <td>Human RBP</td>\n",
       "      <td>0.66</td>\n",
       "      <td>structure</td>\n",
       "    </tr>\n",
       "    <tr>\n",
       "      <th>15</th>\n",
       "      <td>Human data</td>\n",
       "      <td>Mouse</td>\n",
       "      <td>0.58</td>\n",
       "      <td>structure</td>\n",
       "    </tr>\n",
       "    <tr>\n",
       "      <th>16</th>\n",
       "      <td>Human RBP data</td>\n",
       "      <td>Mouse</td>\n",
       "      <td>0.58</td>\n",
       "      <td>structure</td>\n",
       "    </tr>\n",
       "    <tr>\n",
       "      <th>17</th>\n",
       "      <td>Mouse data</td>\n",
       "      <td>Mouse</td>\n",
       "      <td>0.92</td>\n",
       "      <td>structure</td>\n",
       "    </tr>\n",
       "  </tbody>\n",
       "</table>\n",
       "</div>"
      ],
      "text/plain": [
       "           Dataset      Model  F1 score   feature set\n",
       "0       Human data      Human      0.85  hand crafted\n",
       "1   Human RBP data      Human      0.93  hand crafted\n",
       "2       Mouse data      Human      0.64  hand crafted\n",
       "3       Human data  Human RBP      0.86  hand crafted\n",
       "4   Human RBP data  Human RBP      0.86  hand crafted\n",
       "5       Mouse data  Human RBP      0.62  hand crafted\n",
       "6       Human data      Mouse      0.59  hand crafted\n",
       "7   Human RBP data      Mouse      0.59  hand crafted\n",
       "8       Mouse data      Mouse      0.86  hand crafted\n",
       "9       Human data      Human      0.91     structure\n",
       "10  Human RBP data      Human      0.95     structure\n",
       "11      Mouse data      Human      0.68     structure\n",
       "12      Human data  Human RBP      0.89     structure\n",
       "13  Human RBP data  Human RBP      0.91     structure\n",
       "14      Mouse data  Human RBP      0.66     structure\n",
       "15      Human data      Mouse      0.58     structure\n",
       "16  Human RBP data      Mouse      0.58     structure\n",
       "17      Mouse data      Mouse      0.92     structure"
      ]
     },
     "execution_count": 7,
     "metadata": {},
     "output_type": "execute_result"
    }
   ],
   "source": [
    "df_full"
   ]
  },
  {
   "cell_type": "code",
   "execution_count": 8,
   "metadata": {},
   "outputs": [
    {
     "data": {
      "image/png": "[encoded data removed]",
      "text/plain": [
       "<Figure size 564.975x216 with 2 Axes>"
      ]
     },
     "metadata": {},
     "output_type": "display_data"
    }
   ],
   "source": [
    "fig = sns.catplot(\n",
    "    data=df_full, x=\"Model\", y=\"F1 score\", col=\"feature set\", hue=\"Dataset\",\n",
    "    kind=\"bar\", palette=['#F0E442','#E69F00','#009E73'],height=3\n",
    ")\n",
    "#g.set_axis_labels(\"\", \"Survival Rate\")\n",
    "#g.set_xticklabels([\"Men\", \"Women\", \"Children\"])\n",
    "#g.set_titles(\"{col_name} {col_var}\")\n",
    "#g.set(ylim=(0, 1))\n",
    "#g.despine(left=True)\n",
    "fig.savefig('F1_cross_model_plot.pdf', format='pdf', dpi=300, bbox_inches='tight')"
   ]
  },
  {
   "cell_type": "code",
   "execution_count": null,
   "metadata": {},
   "outputs": [],
   "source": []
  },
  {
   "cell_type": "code",
   "execution_count": null,
   "metadata": {},
   "outputs": [],
   "source": []
  }
 ],
 "metadata": {
  "kernelspec": {
   "display_name": "Python 3",
   "language": "python",
   "name": "python3"
  },
  "language_info": {
   "codemirror_mode": {
    "name": "ipython",
    "version": 3
   },
   "file_extension": ".py",
   "mimetype": "text/x-python",
   "name": "python",
   "nbconvert_exporter": "python",
   "pygments_lexer": "ipython3",
   "version": "3.8.2"
  }
 },
 "nbformat": 4,
 "nbformat_minor": 4
}
